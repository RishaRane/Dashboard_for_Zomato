{
  "nbformat": 4,
  "nbformat_minor": 0,
  "metadata": {
    "colab": {
      "provenance": []
    },
    "kernelspec": {
      "name": "python3",
      "display_name": "Python 3"
    },
    "language_info": {
      "name": "python"
    }
  },
  "cells": [
    {
      "cell_type": "markdown",
      "source": [
        "# <pre>Building Dashboard For Restaurant"
      ],
      "metadata": {
        "id": "CL05qC1VIdrr"
      }
    },
    {
      "cell_type": "markdown",
      "source": [
        "## Importing Necessary Packages, Libraries & Starting `pyngork`"
      ],
      "metadata": {
        "id": "S6DZ6F_jIyav"
      }
    },
    {
      "cell_type": "code",
      "execution_count": 2,
      "metadata": {
        "colab": {
          "base_uri": "https://localhost:8080/"
        },
        "id": "p5A463f6HNG9",
        "outputId": "dedb5c3e-385d-4fa3-f5b7-1695b3281034"
      },
      "outputs": [
        {
          "output_type": "stream",
          "name": "stdout",
          "text": [
            "\u001b[2K     \u001b[90m━━━━━━━━━━━━━━━━━━━━━━━━━━━━━━━━━━━━━━━━\u001b[0m \u001b[32m41.9/41.9 kB\u001b[0m \u001b[31m2.4 MB/s\u001b[0m eta \u001b[36m0:00:00\u001b[0m\n",
            "\u001b[2K   \u001b[90m━━━━━━━━━━━━━━━━━━━━━━━━━━━━━━━━━━━━━━━━\u001b[0m \u001b[32m8.7/8.7 MB\u001b[0m \u001b[31m68.1 MB/s\u001b[0m eta \u001b[36m0:00:00\u001b[0m\n",
            "\u001b[2K   \u001b[90m━━━━━━━━━━━━━━━━━━━━━━━━━━━━━━━━━━━━━━━━\u001b[0m \u001b[32m207.3/207.3 kB\u001b[0m \u001b[31m14.8 MB/s\u001b[0m eta \u001b[36m0:00:00\u001b[0m\n",
            "\u001b[2K   \u001b[90m━━━━━━━━━━━━━━━━━━━━━━━━━━━━━━━━━━━━━━━━\u001b[0m \u001b[32m6.9/6.9 MB\u001b[0m \u001b[31m83.6 MB/s\u001b[0m eta \u001b[36m0:00:00\u001b[0m\n",
            "\u001b[2K   \u001b[90m━━━━━━━━━━━━━━━━━━━━━━━━━━━━━━━━━━━━━━━━\u001b[0m \u001b[32m79.3/79.3 kB\u001b[0m \u001b[31m5.6 MB/s\u001b[0m eta \u001b[36m0:00:00\u001b[0m\n",
            "\u001b[2K   \u001b[90m━━━━━━━━━━━━━━━━━━━━━━━━━━━━━━━━━━━━━━━━\u001b[0m \u001b[32m62.7/62.7 kB\u001b[0m \u001b[31m4.6 MB/s\u001b[0m eta \u001b[36m0:00:00\u001b[0m\n",
            "\u001b[?25hCollecting pyngrok\n",
            "  Downloading pyngrok-7.2.0-py3-none-any.whl.metadata (7.4 kB)\n",
            "Requirement already satisfied: PyYAML>=5.1 in /usr/local/lib/python3.10/dist-packages (from pyngrok) (6.0.2)\n",
            "Downloading pyngrok-7.2.0-py3-none-any.whl (22 kB)\n",
            "Installing collected packages: pyngrok\n",
            "Successfully installed pyngrok-7.2.0\n"
          ]
        }
      ],
      "source": [
        "#intall streamlit\n",
        "!pip install streamlit -q\n",
        "#To hold a temporary local server\n",
        "!pip install pyngrok"
      ]
    },
    {
      "cell_type": "code",
      "source": [
        "#obtaining external IP address\n",
        "!wget -q -O - ipv4.icanhazip.com"
      ],
      "metadata": {
        "colab": {
          "base_uri": "https://localhost:8080/"
        },
        "id": "m02JbzbIJdjc",
        "outputId": "10c8996b-1ce5-461f-a91a-f2d1bdd7d4f1"
      },
      "execution_count": 8,
      "outputs": [
        {
          "output_type": "stream",
          "name": "stdout",
          "text": [
            "34.19.55.119\n"
          ]
        }
      ]
    },
    {
      "cell_type": "code",
      "source": [
        "# specifying the authorization token\n",
        "\n",
        "from pyngrok import ngrok\n",
        "!ngrok authtoken 2ms1mDrkTaNFMOKnok6Tg13iLZp_5x49SPxvirKskFtXgpeJm"
      ],
      "metadata": {
        "colab": {
          "base_uri": "https://localhost:8080/"
        },
        "id": "M5rZ-gB3KkvN",
        "outputId": "c6c85086-52e0-4487-b3ff-d0655b73ef9b"
      },
      "execution_count": 9,
      "outputs": [
        {
          "output_type": "stream",
          "name": "stdout",
          "text": [
            "Authtoken saved to configuration file: /root/.config/ngrok/ngrok.yml\n"
          ]
        }
      ]
    },
    {
      "cell_type": "code",
      "source": [
        "# Starting the tunnel on port 8501 for HTTP traffic\n",
        "url = ngrok.connect(8501, \"http\")\n",
        "print(f'Access the Dashboard at : {url}')"
      ],
      "metadata": {
        "colab": {
          "base_uri": "https://localhost:8080/"
        },
        "id": "h4mSscB4K4QA",
        "outputId": "f8f505e0-d665-46f7-dcf9-dc411d24e8ad"
      },
      "execution_count": 10,
      "outputs": [
        {
          "output_type": "stream",
          "name": "stdout",
          "text": [
            "Access the Dashboard at : NgrokTunnel: \"https://1f76-34-19-55-119.ngrok-free.app\" -> \"http://localhost:8501\"\n"
          ]
        }
      ]
    },
    {
      "cell_type": "markdown",
      "source": [
        "## Writing the Streamlit Code"
      ],
      "metadata": {
        "id": "cfVAZVmUMeOF"
      }
    },
    {
      "cell_type": "markdown",
      "source": [
        "### 1. Setting the Page Configuration"
      ],
      "metadata": {
        "id": "y7AId66wSe_a"
      }
    },
    {
      "cell_type": "code",
      "source": [
        "# start the streamlit session\n",
        "!streamlit run app.py &>/content/logs.txt &"
      ],
      "metadata": {
        "id": "myunGiwyO9UP"
      },
      "execution_count": 13,
      "outputs": []
    },
    {
      "cell_type": "code",
      "source": [
        "%%writefile app.py\n",
        "\n",
        "import os\n",
        "import pandas as pd\n",
        "import plotly.express as px\n",
        "import streamlit as st\n",
        "\n",
        "import warnings\n",
        "warnings.filterwarnings('ignore')\n",
        "\n",
        "#configuration\n",
        "st.set_page_config(page_title = 'Zomato Dashboard', layout = 'wide')\n",
        "\n",
        "# Set page title\n",
        "st.title('Dashboard For Zomato Restaurants:bar_chart:')\n",
        "\n",
        "#moving page title upwards and in center\n",
        "st.markdown(\n",
        "    '''<style>\n",
        "            div.block-container{\n",
        "              padding-top:2rem;\n",
        "              text-align:center;\n",
        "            }\n",
        "       </style>\n",
        "    ''',\n",
        "    unsafe_allow_html = True)"
      ],
      "metadata": {
        "colab": {
          "base_uri": "https://localhost:8080/"
        },
        "id": "3NH3-EvNMOtC",
        "outputId": "14c9e235-9aa6-4d0f-9323-9c314a91913d"
      },
      "execution_count": 257,
      "outputs": [
        {
          "output_type": "stream",
          "name": "stdout",
          "text": [
            "Overwriting app.py\n"
          ]
        }
      ]
    },
    {
      "cell_type": "markdown",
      "source": [
        "### 2. Upload the Data"
      ],
      "metadata": {
        "id": "pibL0CeGSjne"
      }
    },
    {
      "cell_type": "code",
      "source": [
        "%%writefile -a app.py\n",
        "\n",
        "os.chdir(r'/content')\n",
        "df = pd.read_csv('zomato.csv')"
      ],
      "metadata": {
        "colab": {
          "base_uri": "https://localhost:8080/"
        },
        "id": "s3gyxyNIPD5U",
        "outputId": "27cc2ca1-bbc2-4e40-fe06-f9f754a9046d"
      },
      "execution_count": 258,
      "outputs": [
        {
          "output_type": "stream",
          "name": "stdout",
          "text": [
            "Appending to app.py\n"
          ]
        }
      ]
    },
    {
      "cell_type": "markdown",
      "source": [
        "### 3. Creating Filters"
      ],
      "metadata": {
        "id": "EQYGobvWZu-m"
      }
    },
    {
      "cell_type": "markdown",
      "source": [
        "SIDEBAR CREATION"
      ],
      "metadata": {
        "id": "5l7SPyjhhHaZ"
      }
    },
    {
      "cell_type": "code",
      "source": [
        "%%writefile -a app.py\n",
        "\n",
        "# 3.1 Sidebar for Restaurant Name\n",
        "st.sidebar.header('Filters')\n",
        "res_name = st.sidebar.multiselect('Restaurant Name', df['name'].unique())\n",
        "\n",
        "if not res_name:\n",
        "  df1 = df.copy()\n",
        "else:\n",
        "  df1 = df[df['name'].isin(res_name)]\n",
        "\n",
        "# 3.2 Sidebar for restaurant type\n",
        "res_type = st.sidebar.multiselect('Restaurant Type', df1['rest_type'].unique())\n",
        "\n",
        "if not res_type:\n",
        "  df2 = df1.copy()\n",
        "else:\n",
        "  df2 = df1[df1['rest_type'].isin(res_type)]\n",
        "\n",
        "# 3.3 Sidebar for City\n",
        "city = st.sidebar.multiselect('City', df2['listed_in(city)'].unique())\n",
        "\n",
        "if not city:\n",
        "  df3 = df2.copy()\n",
        "else:\n",
        "  df3 = df2[df2['listed_in(city)'].isin(city)]"
      ],
      "metadata": {
        "colab": {
          "base_uri": "https://localhost:8080/"
        },
        "id": "6e-Ko8B2ZuAW",
        "outputId": "6cce4b76-6efa-4271-d3d9-c21233207e0a"
      },
      "execution_count": 259,
      "outputs": [
        {
          "output_type": "stream",
          "name": "stdout",
          "text": [
            "Appending to app.py\n"
          ]
        }
      ]
    },
    {
      "cell_type": "markdown",
      "source": [
        "LOGIC FOR SIDEBAR"
      ],
      "metadata": {
        "id": "pUiexD3ehJ4J"
      }
    },
    {
      "cell_type": "code",
      "source": [
        "%%writefile -a app.py\n",
        "\n",
        "if not res_name and not res_type and not city:\n",
        "  filters_df = df\n",
        "elif not res_type and not city:\n",
        "  filters_df = df1[df1['name'].isin(res_name)]\n",
        "elif not res_name and not city:\n",
        "  filters_df = df2[df2['rest_type'].isin(res_type)]\n",
        "elif not res_name and not res_type:\n",
        "  filters_df = df3[df3['listed_in(city)'].isin(city)]\n",
        "elif res_name and res_type:\n",
        "  filters_df = df3[df1['name'].isin(res_name) & df2['rest_type'].isin(res_type)]\n",
        "elif res_name and city:\n",
        "  filters_df = df3[df1['name'].isin(res_name) & df3['listed_in(city)'].isin(city)]\n",
        "elif res_type and city:\n",
        "  filters_df = df3[df2['rest_type'].isin(res_type) & df3['listed_in(city)'].isin(city)]\n",
        "else:\n",
        "  filters_df = df3[df1['name'].isin(res_name) & df2['rest_type'].isin(res_type) & df3['listed_in(city)'].isin(city)]"
      ],
      "metadata": {
        "colab": {
          "base_uri": "https://localhost:8080/"
        },
        "id": "mZUcaE0ZZtej",
        "outputId": "33386132-505c-489d-cd9f-64ff8c7356ef"
      },
      "execution_count": 260,
      "outputs": [
        {
          "output_type": "stream",
          "name": "stdout",
          "text": [
            "Appending to app.py\n"
          ]
        }
      ]
    },
    {
      "cell_type": "markdown",
      "source": [
        "### 4. Cost fot two people by Restaurant Type and city"
      ],
      "metadata": {
        "id": "jxJQu9rLo39h"
      }
    },
    {
      "cell_type": "markdown",
      "source": [
        "- `errors='coerce'` ensures that any problematic values are turned into NaN rather than raising an error.\n"
      ],
      "metadata": {
        "id": "Vrp7Yhy6s6h9"
      }
    },
    {
      "cell_type": "code",
      "source": [
        "%%writefile -a app.py\n",
        "\n",
        "block1, block2 = st.columns((2))\n",
        "\n",
        "filters_df['approx_cost(for two people)'] = pd.to_numeric(filters_df['approx_cost(for two people)'].str.replace(',', ''), errors='coerce')\n",
        "\n",
        "# 1. Restaurant Type Wise Costs\n",
        "cost_df = filters_df.groupby(by = 'rest_type', as_index = False)['approx_cost(for two people)'].mean()\n",
        "\n",
        "with block1:\n",
        "  st.subheader(' :moneybag: Restaurant Type Wise Cost')\n",
        "  fig1 = px.bar(cost_df,\n",
        "                x = 'rest_type',\n",
        "                y = 'approx_cost(for two people)',\n",
        "                template = 'seaborn')\n",
        "  st.plotly_chart(fig1, use_container_width = True)\n",
        "\n",
        "# 2. City Wise Costs\n",
        "cost_df = filters_df.groupby(by = 'listed_in(city)', as_index = False)['approx_cost(for two people)'].mean()\n",
        "\n",
        "with block2:\n",
        "  st.subheader(' :moneybag: City Wise Costs')\n",
        "  fig1 = px.pie(cost_df,\n",
        "                values = 'approx_cost(for two people)',\n",
        "                names = 'listed_in(city)',\n",
        "                hole = 0.5)\n",
        "  st.plotly_chart(fig1, use_container_width = True)"
      ],
      "metadata": {
        "colab": {
          "base_uri": "https://localhost:8080/"
        },
        "id": "tLlrugoiS4JW",
        "outputId": "d9ea7408-a879-4945-db37-adac20e409a1"
      },
      "execution_count": 261,
      "outputs": [
        {
          "output_type": "stream",
          "name": "stdout",
          "text": [
            "Appending to app.py\n"
          ]
        }
      ]
    },
    {
      "cell_type": "markdown",
      "source": [
        "### 5. Correlation between cost and ratings"
      ],
      "metadata": {
        "id": "_5pKD2tW5kNN"
      }
    },
    {
      "cell_type": "code",
      "source": [
        "%%writefile -a app.py\n",
        "\n",
        "st.subheader('Cost Vs Ratings')\n",
        "\n",
        "fig3 = px.scatter(filters_df,\n",
        "                  x='approx_cost(for two people)',\n",
        "                  y='rate',\n",
        "                  height=500,\n",
        "                  width=1000,\n",
        "                  template='gridon',\n",
        "                  color='rate')\n",
        "\n",
        "st.plotly_chart(fig3, use_container_width=True)\n"
      ],
      "metadata": {
        "colab": {
          "base_uri": "https://localhost:8080/"
        },
        "id": "8Rc6jZ782n65",
        "outputId": "5dbde618-35d7-4715-e2f7-b957d162cbf3"
      },
      "execution_count": 262,
      "outputs": [
        {
          "output_type": "stream",
          "name": "stdout",
          "text": [
            "Appending to app.py\n"
          ]
        }
      ]
    },
    {
      "cell_type": "markdown",
      "source": [
        "### 6. Pivot Table For Rwstaurant Name"
      ],
      "metadata": {
        "id": "LJmmwwPlGRtY"
      }
    },
    {
      "cell_type": "code",
      "source": [
        "%%writefile -a app.py\n",
        "\n",
        "st.subheader('Data For Restaurants:page_with_curl:')\n",
        "with st.expander(\"Restaurant Summary\"):\n",
        "  st.markdown('Restaurant Data')\n",
        "  cols = (filters_df[['name', 'online_order', 'book_table', 'phone', 'address']]).astype('str')\n",
        "  res_summary = pd.pivot_table(data = cols,\n",
        "                               index = ['name'],\n",
        "                               aggfunc=lambda x: ' '.join(x.unique()) if x.notnull().any() else '')\n",
        "  st.write(res_summary.style.background_gradient(cmap = 'Blues'))"
      ],
      "metadata": {
        "colab": {
          "base_uri": "https://localhost:8080/"
        },
        "id": "8D9RnTqbGRgV",
        "outputId": "fa8e4b95-9d6c-41af-d30b-b886364bca8d"
      },
      "execution_count": 263,
      "outputs": [
        {
          "output_type": "stream",
          "name": "stdout",
          "text": [
            "Appending to app.py\n"
          ]
        }
      ]
    },
    {
      "cell_type": "markdown",
      "source": [
        "### 7. Votes fot two people by Restaurant Type and city"
      ],
      "metadata": {
        "id": "IHLs3-tJ0lzu"
      }
    },
    {
      "cell_type": "code",
      "source": [
        "%%writefile -a app.py\n",
        "\n",
        "block1, block2 = st.columns((2))\n",
        "\n",
        "# filters_df['votes'] = pd.to_numeric(filters_df['votes'].str.replace(',', ''), errors='coerce')\n",
        "\n",
        "# 1. Restaurant Type Wise Votes\n",
        "cost_df = filters_df.groupby(by = 'rest_type', as_index = False)['votes'].mean()\n",
        "\n",
        "with block1:\n",
        "  st.subheader('Restaurant Type Wise Votes')\n",
        "  fig1 = px.bar(cost_df,\n",
        "                x = 'rest_type',\n",
        "                y = 'votes',\n",
        "                template = 'seaborn',\n",
        "                color_discrete_sequence=['#9ACD32'])\n",
        "  st.plotly_chart(fig1, use_container_width = True)\n",
        "\n",
        "# 2. City Wise Votes\n",
        "cost_df = filters_df.groupby(by = 'listed_in(city)', as_index = False)['votes'].mean()\n",
        "\n",
        "with block2:\n",
        "  st.subheader('City Wise Votes')\n",
        "  fig2 = px.pie(cost_df,\n",
        "                values = 'votes',\n",
        "                names = 'listed_in(city)',\n",
        "                hole = 0.5)\n",
        "  st.plotly_chart(fig2, use_container_width = True)"
      ],
      "metadata": {
        "colab": {
          "base_uri": "https://localhost:8080/"
        },
        "id": "ao8zCqP_sNYN",
        "outputId": "fb58f437-5cfa-4eb7-94a7-33ddb27f1859"
      },
      "execution_count": 264,
      "outputs": [
        {
          "output_type": "stream",
          "name": "stdout",
          "text": [
            "Appending to app.py\n"
          ]
        }
      ]
    },
    {
      "cell_type": "markdown",
      "source": [
        "### 8. Creating Treemap based on city, restaurant type and special food items they offer considering food cost"
      ],
      "metadata": {
        "id": "a2hDEWFwMcjY"
      }
    },
    {
      "cell_type": "code",
      "source": [
        "%%writefile -a app.py\n",
        "st.subheader('Hierarchical View Restaurant Costs :arrow_down:')\n",
        "\n",
        "data = filters_df.dropna(subset=['listed_in(city)', 'rest_type', 'listed_in(type)'])\n",
        "\n",
        "mean_cost_df = data.groupby(['listed_in(city)', 'rest_type', 'listed_in(type)'], as_index=False)['approx_cost(for two people)'].mean()\n",
        "\n",
        "fig4 = px.treemap(mean_cost_df,\n",
        "                  path = ['listed_in(city)', 'rest_type', 'listed_in(type)'],\n",
        "                  values = 'approx_cost(for two people)',\n",
        "                  hover_data  = ['approx_cost(for two people)'],\n",
        "                  color = 'rest_type')\n",
        "fig3.update_layout(width = 800, height = 650)\n",
        "st.plotly_chart(fig4, use_container_width = True)"
      ],
      "metadata": {
        "colab": {
          "base_uri": "https://localhost:8080/"
        },
        "id": "RX-HQpEKLQGz",
        "outputId": "0a2e469f-3ff8-4f6a-b895-616084a44ed8"
      },
      "execution_count": 265,
      "outputs": [
        {
          "output_type": "stream",
          "name": "stdout",
          "text": [
            "Appending to app.py\n"
          ]
        }
      ]
    },
    {
      "cell_type": "code",
      "source": [],
      "metadata": {
        "id": "ORauOIrtXDPb"
      },
      "execution_count": null,
      "outputs": []
    }
  ]
}